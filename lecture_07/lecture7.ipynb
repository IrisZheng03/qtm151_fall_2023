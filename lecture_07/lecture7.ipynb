{
 "cells": [
  {
   "attachments": {},
   "cell_type": "markdown",
   "metadata": {},
   "source": [
    "# <span style=\"color:darkblue\"> Lecture 7: User-defined Functions </span>"
   ]
  },
  {
   "attachments": {},
   "cell_type": "markdown",
   "metadata": {},
   "source": [
    "## <span style=\"color:darkblue\"> I. Import Libraries </span>"
   ]
  },
  {
   "cell_type": "code",
   "execution_count": 1,
   "metadata": {},
   "outputs": [],
   "source": [
    "# the \"numPy\" library is used for mathematical operations\n",
    "# the \"matplotlib\" library is for generating graphs\n",
    "# the \"pandas\" library is for manipualting datasets\n",
    "\n",
    "import numpy as np\n",
    "import matplotlib.pyplot as plt\n",
    "import pandas as pd"
   ]
  },
  {
   "attachments": {},
   "cell_type": "markdown",
   "metadata": {},
   "source": [
    "## <span style=\"color:darkblue\"> II. Introduction to Functions </span>"
   ]
  },
  {
   "attachments": {},
   "cell_type": "markdown",
   "metadata": {},
   "source": [
    "<font size=\"5\"> \n",
    "\n",
    "A function is ...\n",
    "\n",
    "- a **block of reusable** code to perform a a specific task\n",
    "- Functions avoid repetition\n",
    "- As our code grows larger, functions make it more manageable\n",
    "\n"
   ]
  },
  {
   "attachments": {},
   "cell_type": "markdown",
   "metadata": {},
   "source": [
    "<font size=\"5\"> \n",
    "\n",
    "\"Built-in\" functions are those from Python libraries, e.g.\n",
    "\n",
    "```print()```, ```type()```, ```round()```,```abs()```, ```len()```\n",
    "\n",
    "- The \"arguments\" are the values of the inputs\n",
    "- The \"return\" is the output\n"
   ]
  },
  {
   "cell_type": "code",
   "execution_count": 2,
   "metadata": {},
   "outputs": [
    {
     "name": "stdout",
     "output_type": "stream",
     "text": [
      "Hello 24\n"
     ]
    }
   ],
   "source": [
    "# Argument:   \"Hello\" \n",
    "# Return:     Showing the message on screen\n",
    "\n",
    "print(\"Hello \"+str(24))\n"
   ]
  },
  {
   "cell_type": "code",
   "execution_count": 3,
   "metadata": {},
   "outputs": [
    {
     "data": {
      "text/plain": [
       "str"
      ]
     },
     "execution_count": 3,
     "metadata": {},
     "output_type": "execute_result"
    }
   ],
   "source": [
    "# Argument:  3.14\n",
    "# Return:    The type of object, e.g. int, str, boolean, float, etc.\n",
    "\n",
    "type(\"ABC\")\n"
   ]
  },
  {
   "cell_type": "code",
   "execution_count": 4,
   "metadata": {},
   "outputs": [
    {
     "data": {
      "text/plain": [
       "3.1415926536"
      ]
     },
     "execution_count": 4,
     "metadata": {},
     "output_type": "execute_result"
    }
   ],
   "source": [
    "# First Argument:   np.pi     (a numeric value)\n",
    "# Second Argument:  6         (the number of decimals)\n",
    "# Return:  Round the first argument, given the number of decimals in the second argument\n",
    "\n",
    "round(np.pi,  10)\n"
   ]
  },
  {
   "cell_type": "code",
   "execution_count": 5,
   "metadata": {},
   "outputs": [
    {
     "data": {
      "text/plain": [
       "4"
      ]
     },
     "execution_count": 5,
     "metadata": {},
     "output_type": "execute_result"
    }
   ],
   "source": [
    "# Argument: -4\n",
    "# Return:   The absolute value\n",
    "abs(-4)\n"
   ]
  },
  {
   "cell_type": "code",
   "execution_count": 6,
   "metadata": {},
   "outputs": [
    {
     "data": {
      "text/plain": [
       "5"
      ]
     },
     "execution_count": 6,
     "metadata": {},
     "output_type": "execute_result"
    }
   ],
   "source": [
    "list_fruits = [\"Apple\",\"Orange\",\"Pear\"]\n",
    "\n",
    "# Argument: list_fruits\n",
    "# Return:   The number of elements in the list\n",
    "len('Hello')"
   ]
  },
  {
   "attachments": {},
   "cell_type": "markdown",
   "metadata": {},
   "source": [
    "<font size = \"5\">\n",
    "\n",
    "Enter arguments by assigning parameters"
   ]
  },
  {
   "cell_type": "code",
   "execution_count": 7,
   "metadata": {},
   "outputs": [],
   "source": [
    "# Here \"df\" and \"size\" are both parameters\n",
    "# They get assigned the arguments \"2\" and \"20\", respectively\n",
    "# The return is a vector of random variables\n",
    "\n",
    "vec_x = np.random.chisquare(df = 2, size = 20)\n"
   ]
  },
  {
   "cell_type": "code",
   "execution_count": 8,
   "metadata": {},
   "outputs": [
    {
     "data": {
      "text/plain": [
       "(array([5., 8., 1., 2., 3., 0., 0., 0., 0., 1.]),\n",
       " array([0.05422827, 0.79588158, 1.53753488, 2.27918818, 3.02084148,\n",
       "        3.76249478, 4.50414809, 5.24580139, 5.98745469, 6.72910799,\n",
       "        7.47076129]),\n",
       " <BarContainer object of 10 artists>)"
      ]
     },
     "execution_count": 8,
     "metadata": {},
     "output_type": "execute_result"
    },
    {
     "data": {
      "image/png": "[encoded data removed]",
      "text/plain": [
       "<Figure size 640x480 with 1 Axes>"
      ]
     },
     "metadata": {},
     "output_type": "display_data"
    }
   ],
   "source": [
    "vec_x\n",
    "plt.hist(vec_x)"
   ]
  },
  {
   "cell_type": "code",
   "execution_count": 31,
   "metadata": {},
   "outputs": [
    {
     "data": {
      "image/png": "[encoded data removed]",
      "text/plain": [
       "<Figure size 640x480 with 1 Axes>"
      ]
     },
     "metadata": {},
     "output_type": "display_data"
    },
    {
     "data": {
      "text/plain": [
       "(array([3., 6., 6., 8., 6., 1., 8., 2., 6., 4.]),\n",
       " array([-1.81813431, -1.44180455, -1.06547479, -0.68914504, -0.31281528,\n",
       "         0.06351448,  0.43984424,  0.81617399,  1.19250375,  1.56883351,\n",
       "         1.94516327]),\n",
       " <BarContainer object of 10 artists>)"
      ]
     },
     "execution_count": 31,
     "metadata": {},
     "output_type": "execute_result"
    },
    {
     "data": {
      "image/png": "[encoded data removed]",
      "text/plain": [
       "<Figure size 640x480 with 1 Axes>"
      ]
     },
     "metadata": {},
     "output_type": "display_data"
    }
   ],
   "source": [
    "vec_y = np.random.normal(loc = 2, scale = 1, size = 20)\n",
    "plt.hist(vec_y)\n",
    "plt.show()\n",
    "vec_z = np.random.uniform(low = -2, high =2, size = 50)\n",
    "plt.hist(vec_z)"
   ]
  },
  {
   "cell_type": "code",
   "execution_count": 10,
   "metadata": {},
   "outputs": [
    {
     "data": {
      "text/plain": [
       "array([ 2.51888261, -0.30031986,  1.5332568 ,  0.76531321,  3.3565494 ,\n",
       "        0.97200363,  1.43782823,  2.93626418,  1.67461457,  1.66261588,\n",
       "        1.75310032,  1.57583244,  4.11405294,  0.65052688,  3.60375003,\n",
       "        2.24337747,  1.25690124,  1.03956235,  2.70918038,  3.54796191])"
      ]
     },
     "execution_count": 10,
     "metadata": {},
     "output_type": "execute_result"
    }
   ],
   "source": [
    "vec_y"
   ]
  },
  {
   "attachments": {},
   "cell_type": "markdown",
   "metadata": {},
   "source": [
    "<font size = \"5\">\n",
    "\n",
    "Discussion:\n",
    "\n",
    "- What are the parameters, arguments, and returns above?\n"
   ]
  },
  {
   "attachments": {},
   "cell_type": "markdown",
   "metadata": {},
   "source": [
    "## <span style=\"color:darkblue\"> III. Custom Functions </span>"
   ]
  },
  {
   "attachments": {},
   "cell_type": "markdown",
   "metadata": {},
   "source": [
    "<font size = \"5\">\n",
    "\n",
    "You can write your own functions:\n",
    "\n",
    "```python\n",
    "\n",
    "    #---- DEFINE\n",
    "    def my_function(parameter):\n",
    "        body\n",
    "        return expression\n",
    "\n",
    "    #---- RUN\n",
    "    my_function(parameter = argument) \n",
    "\n",
    "    #---- RUN\n",
    "    my_function(argument)\n",
    "```\n",
    "<br>"
   ]
  },
  {
   "attachments": {},
   "cell_type": "markdown",
   "metadata": {},
   "source": [
    "<font size = \"5\">\n",
    "\n",
    "Example: Calculate\n",
    "\n",
    "$V=P\\left(1+{\\frac {r}{n}}\\right)^{nt}$\n",
    "\n",
    "\n"
   ]
  },
  {
   "cell_type": "code",
   "execution_count": 11,
   "metadata": {},
   "outputs": [],
   "source": [
    "# We are going to define a function \"fn_compute_value\"\n",
    "# You can choose any name\n",
    "# Using prefixes like \"fn_\" can help you remember this is a \"function\" object\n",
    "# What are the parameters?\n",
    "\n",
    "def function_v(P, r,n, t):\n",
    "    v = P*(1+(r/n))**(n*t)\n",
    "    return v"
   ]
  },
  {
   "cell_type": "code",
   "execution_count": 12,
   "metadata": {},
   "outputs": [
    {
     "data": {
      "text/plain": [
       "110.51432983541218"
      ]
     },
     "execution_count": 12,
     "metadata": {},
     "output_type": "execute_result"
    }
   ],
   "source": [
    "function_v(P=100, r = 0.01, n = 20, t=10)"
   ]
  },
  {
   "cell_type": "code",
   "execution_count": 13,
   "metadata": {},
   "outputs": [],
   "source": [
    "# You can know compute the formula with different values\n",
    "\n",
    "#V1 = fn_compute_value(P = 1000, r = 0.01, n = 20, t=10)\n",
    "#V2 = fn_compute_value(P = 10, r = 0.01, n = 20, t=10)\n"
   ]
  },
  {
   "attachments": {},
   "cell_type": "markdown",
   "metadata": {},
   "source": [
    "<font size = \"5\">\n",
    "\n",
    "Try it yourself:\n",
    "\n",
    "- Write a function that calculates $f(x) = x^2 + 2x + 1$.\n"
   ]
  },
  {
   "cell_type": "code",
   "execution_count": 14,
   "metadata": {},
   "outputs": [],
   "source": [
    "# Write your own code here\n",
    "\n",
    "def f(x):\n",
    "    return x**2+2*x+1"
   ]
  },
  {
   "cell_type": "code",
   "execution_count": 15,
   "metadata": {},
   "outputs": [
    {
     "data": {
      "text/plain": [
       "9"
      ]
     },
     "execution_count": 15,
     "metadata": {},
     "output_type": "execute_result"
    }
   ],
   "source": [
    "f(2)"
   ]
  },
  {
   "attachments": {},
   "cell_type": "markdown",
   "metadata": {},
   "source": [
    "<font size = \"5\">\n",
    "\n",
    "Try it yourself: Write a function\n",
    "\n",
    "- with a parameter \"numeric_grade\"\n",
    "- Inside the function write an if/else statement for grade $\\ge 55$.\n",
    "- If it's true, then assign \"status = pass\"\n",
    "- If it's false, then assign \"status = fail\"\n",
    "- Return the value of \"status\""
   ]
  },
  {
   "cell_type": "code",
   "execution_count": 16,
   "metadata": {},
   "outputs": [],
   "source": [
    "# Write your own code\n",
    "\n",
    "def f_num(numeric_grade):\n",
    "    if numeric_grade>=50:\n",
    "        return 'pass'\n",
    "    else:\n",
    "        return 'fail'"
   ]
  },
  {
   "cell_type": "code",
   "execution_count": 17,
   "metadata": {},
   "outputs": [],
   "source": [
    "def f_num_one(numeric_grade):\n",
    "    if numeric_grade >= 50:\n",
    "        status = 'pass'\n",
    "    else:\n",
    "        status = 'fail'\n",
    "    return status"
   ]
  },
  {
   "cell_type": "code",
   "execution_count": 18,
   "metadata": {},
   "outputs": [
    {
     "name": "stdout",
     "output_type": "stream",
     "text": [
      "fail\n",
      "fail\n"
     ]
    }
   ],
   "source": [
    "print(f_num(40))\n",
    "print(f_num_one(40))"
   ]
  },
  {
   "attachments": {},
   "cell_type": "markdown",
   "metadata": {},
   "source": [
    "<font size = \"5\">\n",
    "\n",
    "Try it yourself! Write a function \n",
    "- Write a function with parameters \"first_name\", \"last_name\", \"car_model\"\n",
    "- Return a message saying:\n",
    "\n",
    "\"Dear customer {first_name} {last_name}, your car model {car_model} is ready\" \n",
    "\n",
    "\n",
    "\n"
   ]
  },
  {
   "cell_type": "code",
   "execution_count": 19,
   "metadata": {},
   "outputs": [],
   "source": [
    "# Write your own code\n"
   ]
  },
  {
   "attachments": {},
   "cell_type": "markdown",
   "metadata": {},
   "source": [
    "## <span style=\"color:darkblue\"> III. Lambda Functions </span>\n",
    "\n",
    "<font size = \"5\">\n",
    "\n",
    "\"Lambda Functions\" are defined in one line:\n",
    "\n",
    "```python\n",
    "my_function = lambda parameters: expression\n",
    "```"
   ]
  },
  {
   "attachments": {},
   "cell_type": "markdown",
   "metadata": {},
   "source": [
    "<font size = \"5\">\n",
    "\n",
    "Example: Calculate $x + y + z$"
   ]
  },
  {
   "cell_type": "code",
   "execution_count": 20,
   "metadata": {},
   "outputs": [
    {
     "data": {
      "text/plain": [
       "6"
      ]
     },
     "execution_count": 20,
     "metadata": {},
     "output_type": "execute_result"
    }
   ],
   "source": [
    "# (a) Define function\n",
    "fn_sum = lambda x,y,z: x + y + z\n",
    "\n",
    "# (b) Run function\n",
    "fn_sum(1,2,3)"
   ]
  },
  {
   "attachments": {},
   "cell_type": "markdown",
   "metadata": {},
   "source": [
    "<font size = \"5\"> Example: Calculate\n",
    "\n",
    "$V=P\\left(1+{\\frac {r}{n}}\\right)^{nt}$\n"
   ]
  },
  {
   "cell_type": "code",
   "execution_count": 21,
   "metadata": {},
   "outputs": [],
   "source": [
    "fn_v = lambda P, r, n, t: P*(1+(r/n))**(n*t)"
   ]
  },
  {
   "cell_type": "code",
   "execution_count": 22,
   "metadata": {},
   "outputs": [
    {
     "name": "stdout",
     "output_type": "stream",
     "text": [
      "1105.1432983541217\n",
      "11.051432983541218\n"
     ]
    }
   ],
   "source": [
    "V1 = fn_v(P = 1000, r = 0.01, n = 20, t=10)\n",
    "V2 = fn_v(P = 10, r = 0.01, n = 20, t=10)\n",
    "\n",
    "print(V1)\n",
    "print(V2)"
   ]
  },
  {
   "attachments": {},
   "cell_type": "markdown",
   "metadata": {},
   "source": [
    "<font size = \"5\">\n",
    "\n",
    "Try it yourself!\n",
    "\n",
    "(a) Boleean + Functions\n",
    "\n",
    "- Write a function called \"fn_iseligible_vote\"\n",
    "- This functions returns a boolean value that checks whether age $\\ge$ 18"
   ]
  },
  {
   "cell_type": "code",
   "execution_count": 33,
   "metadata": {},
   "outputs": [],
   "source": [
    "# Write your own code\n",
    "fn_iseligible_vote = lambda age: age>=18"
   ]
  },
  {
   "cell_type": "code",
   "execution_count": 24,
   "metadata": {},
   "outputs": [
    {
     "data": {
      "text/plain": [
       "True"
      ]
     },
     "execution_count": 24,
     "metadata": {},
     "output_type": "execute_result"
    }
   ],
   "source": [
    "fn_iseligible_vote(20)"
   ]
  },
  {
   "attachments": {},
   "cell_type": "markdown",
   "metadata": {},
   "source": [
    "<font size = \"5\">\n",
    "\n",
    "(b) Looping  + Functions\n",
    "\n",
    "- Create list_ages = [18,29,15,32,6]\n",
    "- Write a loop that checks whether above ages are eligible to vote\n",
    "- Use the above function"
   ]
  },
  {
   "cell_type": "code",
   "execution_count": 35,
   "metadata": {},
   "outputs": [
    {
     "name": "stdout",
     "output_type": "stream",
     "text": [
      "[True, True, False, True, False]\n",
      "[True, True, False, True, False]\n"
     ]
    }
   ],
   "source": [
    "list_ages = [18,29,15,32,6]\n",
    "result_list = []\n",
    "\n",
    "for age in list_ages:\n",
    "    result_list.append(fn_iseligible_vote(age))\n",
    "\n",
    "print(result_list)\n",
    "\n",
    "result_list2 = list(map(fn_iseligible_vote,list_ages))\n",
    "print(result_list2)\n"
   ]
  },
  {
   "cell_type": "code",
   "execution_count": 26,
   "metadata": {},
   "outputs": [
    {
     "data": {
      "text/plain": [
       "3"
      ]
     },
     "execution_count": 26,
     "metadata": {},
     "output_type": "execute_result"
    }
   ],
   "source": [
    "np.sum(result_list)"
   ]
  },
  {
   "cell_type": "code",
   "execution_count": 27,
   "metadata": {},
   "outputs": [],
   "source": [
    "# Write your own code\n",
    "\n",
    "list_ages = [18,29,15,32,6]\n",
    "\n",
    "#for age in list_ages:\n",
    "#    print(\"A person with age \" + str(age) + \" can vote: \" +\n",
    "#           str(fn_iseligible_vote(age)))"
   ]
  },
  {
   "attachments": {},
   "cell_type": "markdown",
   "metadata": {},
   "source": [
    "## <span style=\"color:darkblue\"> IV. (Optional) Functions for visualization </span>\n",
    "\n",
    "<font size = \"5\">\n",
    "Returning a value is not always necesary, you can write:\n",
    "\n",
    "```python\n",
    "\n",
    "    #---- DEFINE\n",
    "    def my_function(parameter):\n",
    "        body\n",
    "```"
   ]
  },
  {
   "attachments": {},
   "cell_type": "markdown",
   "metadata": {},
   "source": [
    "<font size = \"5\">\n",
    "\n",
    "Example: A customized plot\n",
    "\n",
    "- You can use functions to store your favorite aesthetic"
   ]
  },
  {
   "cell_type": "code",
   "execution_count": 28,
   "metadata": {},
   "outputs": [
    {
     "data": {
      "image/png": "[encoded data removed]",
      "text/plain": [
       "<Figure size 640x480 with 1 Axes>"
      ]
     },
     "metadata": {},
     "output_type": "display_data"
    },
    {
     "data": {
      "image/png": "[encoded data removed]",
      "text/plain": [
       "<Figure size 640x480 with 1 Axes>"
      ]
     },
     "metadata": {},
     "output_type": "display_data"
    }
   ],
   "source": [
    "# Define the function\n",
    "def red_histogram(vec_x,title):\n",
    "    plt.hist(x = vec_x, color = \"red\")\n",
    "    plt.title(title)\n",
    "    plt.ylabel(\"Frequency\")\n",
    "    plt.show()\n",
    "\n",
    "carfeatures = pd.read_csv(\"data/features.csv\")\n",
    "\n",
    "red_histogram(vec_x = carfeatures[\"weight\"], title = \"Histogram\")\n",
    "red_histogram(vec_x = carfeatures[\"acceleration\"], title = \"Histogram\")\n"
   ]
  },
  {
   "attachments": {},
   "cell_type": "markdown",
   "metadata": {},
   "source": [
    "<font size = \"5\">\n",
    "\n",
    "Try it yourself!\n",
    "\n",
    "Create a function that computes a red scatter plot that takes $y$ and $x$ inputs"
   ]
  },
  {
   "cell_type": "code",
   "execution_count": 29,
   "metadata": {},
   "outputs": [],
   "source": [
    "# Write your own code\n",
    "\n",
    "# Define the function\n"
   ]
  }
 ],
 "metadata": {
  "kernelspec": {
   "display_name": "base",
   "language": "python",
   "name": "python3"
  },
  "language_info": {
   "codemirror_mode": {
    "name": "ipython",
    "version": 3
   },
   "file_extension": ".py",
   "mimetype": "text/x-python",
   "name": "python",
   "nbconvert_exporter": "python",
   "pygments_lexer": "ipython3",
   "version": "3.11.4"
  },
  "orig_nbformat": 4,
  "vscode": {
   "interpreter": {
    "hash": "45fc1f684f6f416f40889115beff3ddf69879b64cf4bfee48cb72a61e9d15d1a"
   }
  }
 },
 "nbformat": 4,
 "nbformat_minor": 2
}
